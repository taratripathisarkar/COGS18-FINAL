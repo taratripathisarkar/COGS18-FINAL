{
 "cells": [
  {
   "cell_type": "markdown",
   "metadata": {},
   "source": [
    "Project Description: Part of what chatbots can do is help with customer service, which takes interactions with humans and understand the language. I often make the plans for dinner in my family and thus, I have to reserve tables for us. I wanted to see if a reservation for a made up restaurant would be able to be accomplished by a chatbot.\n",
    "\n",
    "I have built a chatbot that allows you to make a reservation at a made up restaurant, Trudy's. The program begins with welcoming the user to the restaurant. Then there is an input for the user, which is most likely going to be a greeting, and so my code then checks if it is a greeting or not. If it is a greeting, it will respond with a greeting, and also ask if it can help in any way. If it is not a greeting, then the code checks for if it is a question or not, and depending on the key values in the question or message, the code checks for if it is asking about information related to menus or their hours of operation. The it proceeds to ask if the user would like to make a reservation. If yes, the the code asks various question in order to gage the situation and to check if the restaurant is open then or not. It also uses the information from each question to proceed to the next question. There are various options for some of the questions."
   ]
  },
  {
   "cell_type": "code",
   "execution_count": 1,
   "metadata": {},
   "outputs": [
    {
     "name": "stdout",
     "output_type": "stream",
     "text": [
      "{'Monday': '8am - 8pm', 'Tuesday': '8am - 8pm', 'Wednesday': '8am - 8pm', 'Thursday': '8am - 8pm', 'Friday': '8am - 8pm', 'Saturday': '10am - 4pm', 'Sunday': 'CLOSED'}\n",
      "{'Pancakes': '$5', 'Waffles': '$4', 'French Toast': '$6', 'Eggs Benedict': '$9', 'Omelette': '$7', 'Protein Bowl': '$8', 'Hash Browns': '$2', 'Boiled egg': '$1', 'Toast': '$1'}\n",
      "{'Garlic Bread': '$4', 'Chicken Noodle Soup': '$3', 'Ceasar Salad': '$5', 'Grilled Chicken': '$9', 'Salmon': '$12', 'Poke Bowl': '$13', 'Chicken Alfredo Pasta': '$11', 'Lasagna': '$10', 'BLT Sandwich': '$7'}\n",
      "{'Calamari': '$6', 'Sliders': '$5', 'Mashed Potatoes': '$4', 'Crispy Brussel Sprouts': '$8', 'Shrimp Linguini': '$15', 'Steak': '$17', 'Burger': '$14', 'Impossible Burger': '$16'}\n"
     ]
    }
   ],
   "source": [
    "from my_module.functions import*"
   ]
  },
  {
   "cell_type": "code",
   "execution_count": 2,
   "metadata": {},
   "outputs": [],
   "source": [
    "def make_reservation():\n",
    "    \"\"\" Main function for the chatbot to actually run\"\"\"\n",
    "    \n",
    "    chat = True\n",
    "    while chat:\n",
    "        \n",
    "        # A simple message to introduce the user to the restaurant they are trying to make a reservation at\n",
    "        intro = print(\"Welcome to Trudy's\")\n",
    "        \n",
    "        # Get message from the user\n",
    "        msg = input('INPUT :\\t')\n",
    "        out_msg = None\n",
    "        \n",
    "        # Checks if the input message is a question\n",
    "        question = is_question(msg)\n",
    "        \n",
    "        # Prepares the input message, so key values can be identified in lists and the appropriate response can be chosen\n",
    "        msg = prepare_text(msg)\n",
    "        \n",
    "        # Checks for an end message from the user\n",
    "        if end_chat(msg):\n",
    "            out_msg = 'Bye!'\n",
    "            chat = False\n",
    "        \n",
    "        # Checks for a various number of information that has already been defined in the functions\n",
    "        # Here, the code will ony ask topic based questions\n",
    "        if not out_msg:\n",
    "            \n",
    "            # Checks if the input message is a greeting and prints a response based on the input\n",
    "            msg1 = input(print(check_for_greeting(msg)))\n",
    "            msg = input('INPUT :\\t')\n",
    "            out_msg = None\n",
    "            \n",
    "            # Checks if the input message is asking about their hours of operation and prints a response based on the input\n",
    "            msg2 = input(print(check_for_hours(msg1)))\n",
    "            print(hours)\n",
    "            msg = input('INPUT :\\t')\n",
    "            out_msg = None\n",
    "            \n",
    "            # Checks if the input message is asking about the menus and prints a response based on the input\n",
    "            msg3 = input(print(check_for_menu(msg1), Breakfast_Menu, Lunch_Menu, Dinner_Menu, 'Would you like to make a reservation'))\n",
    "            msg = input('INPUT :\\t')\n",
    "            out_msg = None\n",
    "            \n",
    "            # Checks if the input message if the user would like a reservation and prints a response based on the input\n",
    "            msg4 = input(print(reservation(msg3)))\n",
    "            msg = input('INPUT :\\t')\n",
    "            out_msg = None\n",
    "            \n",
    "            # Checks if the input message for valid days and times for reservations and prints a response based on the input\n",
    "            msg5 = input(print(day_and_time(msg4)))\n",
    "            msg = input('INPUT :\\t')\n",
    "            out_msg = None\n",
    "            \n",
    "            # Checks if the party has an appropriate amount of people\n",
    "            msg6 = input(print(number_of_people_in_party(msg5)))\n",
    "            msg = input('INPUT :\\t')\n",
    "            out_msg = None\n",
    "            \n",
    "            # Checks if the input message for where user would prefer to sit and prints a response based on the input\n",
    "            msg7 = input(print(inside_outside(msg6)))\n",
    "            mmsg = input('INPUT :\\t')\n",
    "            out_msg = None\n",
    "            \n",
    "        # Makes sure there is a response to inputs that have not been processed. \n",
    "        if not out_msg:\n",
    "            out_msg = random.choice(UNKNOWN)\n",
    "            \n",
    "            print('OUTPUT:', out_msg)"
   ]
  },
  {
   "cell_type": "code",
   "execution_count": null,
   "metadata": {},
   "outputs": [
    {
     "name": "stdout",
     "output_type": "stream",
     "text": [
      "Welcome to Trudy's\n"
     ]
    }
   ],
   "source": [
    "make_reservation()"
   ]
  },
  {
   "cell_type": "code",
   "execution_count": null,
   "metadata": {},
   "outputs": [],
   "source": []
  }
 ],
 "metadata": {
  "kernelspec": {
   "display_name": "Python 3",
   "language": "python",
   "name": "python3"
  },
  "language_info": {
   "codemirror_mode": {
    "name": "ipython",
    "version": 3
   },
   "file_extension": ".py",
   "mimetype": "text/x-python",
   "name": "python",
   "nbconvert_exporter": "python",
   "pygments_lexer": "ipython3",
   "version": "3.7.3"
  }
 },
 "nbformat": 4,
 "nbformat_minor": 4
}
